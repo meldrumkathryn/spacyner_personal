{
 "cells": [
  {
   "cell_type": "markdown",
   "id": "84688dbf-7f3f-479a-b435-f77c5f1f649b",
   "metadata": {},
   "source": [
    "# Strict Scorer for Spacy Model\n",
    "\n",
    "Author: Kathryn Meldrum (kmm4ap@virginia.edu)\n",
    "\n",
    "Implementation of SpaCy's Scorer"
   ]
  },
  {
   "cell_type": "markdown",
   "id": "50b14cdb-05e9-4004-bd59-054c0e795ccb",
   "metadata": {},
   "source": [
    "## Import Packages"
   ]
  },
  {
   "cell_type": "code",
   "execution_count": 11,
   "id": "fe7793ac-1dac-4a45-870a-ec4d75b3cd60",
   "metadata": {},
   "outputs": [],
   "source": [
    "import spacy\n",
    "from spacy.scorer import Scorer\n",
    "from spacy.training import Example\n",
    "import pandas as pd\n",
    "import os\n",
    "\n",
    "#supress warnings each time a span isn't able to be tokenized (optional)\n",
    "import warnings\n",
    "warnings.filterwarnings(\"ignore\")"
   ]
  },
  {
   "cell_type": "markdown",
   "id": "646d244f-ac93-4e3f-b003-fc07e9d28ef0",
   "metadata": {},
   "source": [
    "## Helper function to pull from brat .ann files"
   ]
  },
  {
   "cell_type": "code",
   "execution_count": 17,
   "id": "8156722e-ce43-4da4-9095-b0e0845abbfc",
   "metadata": {},
   "outputs": [],
   "source": [
    "def ann_to_dict(nct_id): #took out file path arg\n",
    "    '''\n",
    "    nct_id: file name before .ann or .txt\n",
    "    file_path: pathname to where .ann and .txt files are stored\n",
    "    return: formatted dictionary\n",
    "    '''\n",
    "    \n",
    "    # change directory to chia corpus\n",
    "    os.chdir('/Users/meldrumapple/Desktop/Capstone/admin_archives/chia_noscope_corpus')\n",
    "    \n",
    "    # read in files\n",
    "    with open(nct_id+'.ann') as f1:\n",
    "        ann=f1.read()\n",
    "        f1.close()\n",
    "    with open(nct_id+'.txt') as f2:\n",
    "        txt=f2.read()\n",
    "        f2.close()\n",
    "        \n",
    "    # ANN FILE MANIPULATION\n",
    "    lines=ann.split('\\n')\n",
    "    ents=[]\n",
    "    for i in range(len(lines)): \n",
    "        line=lines[i].split('\\t') \n",
    "        if 'T' in line[0]:\n",
    "            try: \n",
    "                start=txt.index(line[2])\n",
    "                end= start+len(line[2])\n",
    "                label=line[1].split(' ')[0]\n",
    "                add=True\n",
    "                if label in chia_entities:\n",
    "                    for ent in ents: \n",
    "                        if (ent[0]<=start<=ent[1]) or (ent[0]<=end<=ent[1]) or (start<=ent[0]<=end) or (start<=ent[1]<=end): #check if it overlaps existing span\n",
    "                            add=False \n",
    "                            if (start-end) > (ent[1]-ent[0]): #replace existing span if this span is bigger\n",
    "                                ents.remove(ent)\n",
    "                                ents.append((start, end, label))\n",
    "\n",
    "                    if add==True: \n",
    "                        ents.append((start, end, label))\n",
    "            except:\n",
    "                None\n",
    "            \n",
    "    content={'entities': ents, 'text': txt}\n",
    "    \n",
    "    return content"
   ]
  },
  {
   "cell_type": "markdown",
   "id": "902db261-7be7-4915-92fd-0c71e5d6bd2d",
   "metadata": {},
   "source": [
    "## Define label list and test files from Chia Corpus"
   ]
  },
  {
   "cell_type": "code",
   "execution_count": 18,
   "id": "e23db4c0-d221-4bbe-90a4-34e3ca00a246",
   "metadata": {},
   "outputs": [],
   "source": [
    "chia_entities=['Person', 'Condition', 'Drug', 'Observation', 'Measurement', 'Procedure', 'Device', 'Temporal', 'Mood', 'Pregnancy_considerations']"
   ]
  },
  {
   "cell_type": "code",
   "execution_count": 19,
   "id": "4803283c-de66-4fa2-9d6b-d9dc20d55ad4",
   "metadata": {},
   "outputs": [],
   "source": [
    "test_files=['NCT03117608_inc', 'NCT02550080_exc', 'NCT03252249_inc', 'NCT03193684_inc', 'NCT03056391_exc', 'NCT03382106_inc', 'NCT01715714_inc', 'NCT01907230_exc', 'NCT02283996_exc', 'NCT02273791_inc', 'NCT03013790_inc', 'NCT03338296_exc', 'NCT02469610_inc', 'NCT03234816_exc', 'NCT02557412_exc', 'NCT02062489_inc', 'NCT02426034_exc', 'NCT02560766_exc', 'NCT02269137_exc', 'NCT03445949_inc', 'NCT03164304_exc', 'NCT03344042_inc', 'NCT01996436_inc', 'NCT02810704_exc', 'NCT03304496_exc', 'NCT03123562_exc', 'NCT02631512_exc', 'NCT02904785_inc', 'NCT01639664_inc', 'NCT03262038_inc', 'NCT02678962_exc', 'NCT00728156_exc', 'NCT01891383_inc', 'NCT02592980_exc', 'NCT02502734_exc', 'NCT00728156_inc', 'NCT02942303_inc', 'NCT00650312_exc', 'NCT02473809_inc', 'NCT03231982_inc', 'NCT01639664_exc', 'NCT01888965_exc', 'NCT01793831_exc', 'NCT01799681_exc', 'NCT02695992_exc', 'NCT02406885_inc', 'NCT02637453_exc', 'NCT02754583_inc', 'NCT02527512_inc', 'NCT02531971_inc', 'NCT02997215_exc', 'NCT03159507_exc', 'NCT02965443_exc', 'NCT02966236_exc', 'NCT02046395_exc', 'NCT00917891_inc', 'NCT03491059_inc', 'NCT02390973_exc', 'NCT02965443_inc', 'NCT02652572_exc', 'NCT02323399_inc', 'NCT01401335_exc', 'NCT03663387_exc', 'NCT02916342_exc', 'NCT01424020_exc', 'NCT02912182_exc', 'NCT02247128_exc', 'NCT00351611_inc', 'NCT03008005_exc', 'NCT02318446_exc', 'NCT02295202_exc', 'NCT02589977_inc', 'NCT02952378_inc', 'NCT02858180_exc', 'NCT02827487_inc', 'NCT02117986_exc', 'NCT03089086_inc', 'NCT02202369_exc', 'NCT01228279_inc', 'NCT03119766_exc', 'NCT02698969_exc', 'NCT01943409_inc', 'NCT03329456_exc', 'NCT01236417_exc', 'NCT00343668_inc', 'NCT02707874_exc', 'NCT02150590_exc', 'NCT01857167_exc', 'NCT02645474_inc', 'NCT02863120_exc', 'NCT03624517_inc', 'NCT01824537_inc', 'NCT03171987_exc', 'NCT02443844_exc', 'NCT03530124_inc', 'NCT02019628_exc', 'NCT03149887_exc', 'NCT02251249_exc', 'NCT02299063_exc', 'NCT03467750_exc', 'NCT02499185_exc', 'NCT02316886_inc', 'NCT03129555_exc', 'NCT02984228_inc', 'NCT02321202_inc', 'NCT00312429_inc', 'NCT00846703_inc', 'NCT03177811_exc', 'NCT02789111_inc', 'NCT03376763_inc', 'NCT03043495_inc', 'NCT00989261_exc', 'NCT03091881_inc', 'NCT03404804_inc', 'NCT02704754_exc', 'NCT02379156_inc', 'NCT01735955_inc', 'NCT03177837_inc', 'NCT02242188_exc', 'NCT00639795_inc', 'NCT03663387_inc', 'NCT03280017_exc', 'NCT03471117_inc', 'NCT02782702_inc', 'NCT02112734_inc', 'NCT03619707_exc', 'NCT03064568_inc', 'NCT01217671_exc', 'NCT02256943_inc', 'NCT00343668_exc', 'NCT01728194_inc', 'NCT02958566_exc', 'NCT03465397_exc', 'NCT01680081_inc', 'NCT03226080_exc', 'NCT03325023_inc', 'NCT02707809_inc', 'NCT03247413_exc', 'NCT02515773_inc', 'NCT02894645_exc', 'NCT03015818_exc', 'NCT03063866_exc', 'NCT03025620_inc', 'NCT02745704_inc', 'NCT02842424_exc', 'NCT02650388_exc', 'NCT01799681_inc', 'NCT03620526_inc', 'NCT02360631_inc', 'NCT01846507_inc', 'NCT03216447_exc', 'NCT03147599_exc', 'NCT02267616_inc', 'NCT03282006_exc', 'NCT02760459_inc', 'NCT02743598_exc', 'NCT03079141_inc', 'NCT01765231_inc', 'NCT01051414_exc', 'NCT03318874_exc', 'NCT02034019_exc', 'NCT03297125_inc', 'NCT03500211_exc', 'NCT03259243_inc', 'NCT02637076_exc', 'NCT00650312_inc', 'NCT02150590_inc', 'NCT03068897_inc', 'NCT03424733_exc', 'NCT03082573_inc', 'NCT02777424_inc', 'NCT02823808_exc', 'NCT00806273_exc', 'NCT02541955_exc', 'NCT03169127_inc', 'NCT00401245_inc', 'NCT02903407_inc', 'NCT02141061_inc', 'NCT00959569_inc', 'NCT02652637_exc', 'NCT02427295_inc', 'NCT03305575_exc', 'NCT02443623_exc', 'NCT03018171_inc', 'NCT03555526_exc', 'NCT02321839_inc', 'NCT02810704_inc', 'NCT00862446_exc', 'NCT03231982_exc', 'NCT02546856_exc', 'NCT02818816_exc', 'NCT02675153_exc', 'NCT00785213_inc', 'NCT02186782_exc', 'NCT02175186_inc', 'NCT02109081_exc', 'NCT01912677_exc', 'NCT03253796_exc', 'NCT01631058_exc', 'NCT02056288_inc', 'NCT02638935_exc', 'NCT02743598_inc', 'NCT02162433_inc', 'NCT03416413_exc', 'NCT02759861_exc', 'NCT02222272_inc', 'NCT01098383_inc', 'NCT01959061_exc', 'NCT02877485_exc', 'NCT02121145_inc', 'NCT00959569_exc', 'NCT03506009_inc', 'NCT03193684_exc', 'NCT02564471_inc', 'NCT02361892_inc', 'NCT03513757_exc', 'NCT03122119_inc', 'NCT03477851_inc', 'NCT01866800_exc', 'NCT03537924_exc', 'NCT01064752_inc', 'NCT03430284_exc', 'NCT01177891_inc', 'NCT02015923_exc', 'NCT03062358_exc', 'NCT02528136_exc', 'NCT02822001_exc', 'NCT02777424_exc', 'NCT03181984_inc', 'NCT02283996_inc', 'NCT01909934_exc', 'NCT03113253_inc', 'NCT00752310_exc', 'NCT02606565_exc', 'NCT02529475_exc', 'NCT02942303_exc', 'NCT02787863_exc', 'NCT01815580_inc', 'NCT02056288_exc', 'NCT02781610_inc', 'NCT02609048_inc', 'NCT03299517_inc', 'NCT00404495_inc', 'NCT03209687_exc', 'NCT02687724_inc', 'NCT03088280_inc', 'NCT03171987_inc', 'NCT03124329_inc', 'NCT00379366_inc', 'NCT03125057_exc', 'NCT02900443_exc', 'NCT02511574_inc', 'NCT02350439_exc', 'NCT02876484_inc', 'NCT02939209_exc', 'NCT02934269_exc', 'NCT03479502_inc', 'NCT02117986_inc', 'NCT02765035_inc', 'NCT02488057_exc', 'NCT01801072_inc', 'NCT01082549_exc', 'NCT03463564_exc', 'NCT02678663_exc', 'NCT01929434_inc', 'NCT03381755_exc', 'NCT02739295_exc', 'NCT02035904_inc', 'NCT02106624_exc', 'NCT02430740_inc', 'NCT03012984_inc', 'NCT01567605_exc', 'NCT02952378_exc', 'NCT02431559_inc', 'NCT02935855_inc', 'NCT03011476_exc', 'NCT02548013_exc', 'NCT02369211_inc', 'NCT03177837_exc', 'NCT03131050_inc', 'NCT02368743_exc', 'NCT02777580_inc', 'NCT02201316_exc', 'NCT02041299_inc', 'NCT02112734_exc', 'NCT03305666_inc', 'NCT01717911_inc', 'NCT00094861_inc', 'NCT01711801_exc', 'NCT03347513_inc', 'NCT02796378_inc', 'NCT03320057_exc', 'NCT03402945_exc', 'NCT02735577_exc', 'NCT00718952_exc', 'NCT00543712_inc', 'NCT02510404_inc', 'NCT01214096_inc', 'NCT02437084_exc', 'NCT01884337_inc', 'NCT02314559_inc', 'NCT00599924_inc', 'NCT03192020_exc', 'NCT02525991_inc', 'NCT03481894_exc', 'NCT02748330_inc', 'NCT03115151_exc', 'NCT01320579_exc', 'NCT01856491_inc', 'NCT02462317_exc', 'NCT02580630_inc', 'NCT00931983_inc', 'NCT03648021_exc', 'NCT02301039_inc', 'NCT01895946_exc', 'NCT02867618_inc', 'NCT01911650_inc', 'NCT03026088_exc', 'NCT03397914_exc', 'NCT03096613_inc', 'NCT03004261_exc', 'NCT02704234_exc', 'NCT02303171_exc', 'NCT01991743_inc', 'NCT02456532_exc', 'NCT01581749_inc', 'NCT02543710_exc', 'NCT01717911_exc', 'NCT02364648_inc', 'NCT00379366_exc', 'NCT02541955_inc', 'NCT01684501_exc', 'NCT03402945_inc', 'NCT02732080_inc', 'NCT03056287_exc', 'NCT01518946_exc', 'NCT02042287_inc', 'NCT02831166_exc', 'NCT02062489_exc', 'NCT02884401_exc', 'NCT02281643_exc', 'NCT01709981_inc', 'NCT02858180_inc', 'NCT01175044_inc', 'NCT03337503_exc', 'NCT02760251_exc', 'NCT00122070_exc', 'NCT03400735_inc', 'NCT01501201_exc', 'NCT00250640_exc', 'NCT01822262_exc', 'NCT02631512_inc', 'NCT03473132_exc', 'NCT02260206_exc', 'NCT03208998_exc', 'NCT03066440_inc', 'NCT03209687_inc', 'NCT02937779_inc', 'NCT03182114_exc', 'NCT03297125_exc', 'NCT02526823_exc', 'NCT03397914_inc', 'NCT02825290_inc', 'NCT01236417_inc', 'NCT02364648_exc', 'NCT02565277_exc', 'NCT02645474_exc', 'NCT02056626_exc', 'NCT02747940_inc', 'NCT03344042_exc', 'NCT03351608_inc', 'NCT03338855_inc', 'NCT02322203_inc', 'NCT02653131_exc', 'NCT01715714_exc', 'NCT01630954_inc', 'NCT02466113_inc', 'NCT02714725_exc', 'NCT02092467_inc', 'NCT02224040_exc', 'NCT03226080_inc', 'NCT03151603_exc', 'NCT02979561_exc', 'NCT02589353_inc', 'NCT02918851_exc', 'NCT00625742_exc', 'NCT02705222_exc', 'NCT03328052_exc', 'NCT03122119_exc', 'NCT02830360_exc', 'NCT02692651_inc', 'NCT02763007_exc', 'NCT03118232_inc', 'NCT03637946_exc', 'NCT01743755_exc', 'NCT00994786_inc', 'NCT02705222_inc', 'NCT02464813_inc', 'NCT03472846_exc', 'NCT00954850_exc', 'NCT03126214_exc', 'NCT01768195_exc', 'NCT03519568_inc', 'NCT02590315_inc', 'NCT01320579_inc', 'NCT02426034_inc', 'NCT03096613_exc', 'NCT02301039_exc', 'NCT03208998_inc', 'NCT03323047_exc', 'NCT03140488_inc', 'NCT01908465_exc', 'NCT00426751_inc', 'NCT03168555_exc', 'NCT02714725_inc', 'NCT03476850_inc', 'NCT03017053_exc', 'NCT02827487_exc', 'NCT03373318_inc', 'NCT01373684_inc', 'NCT03288428_inc', 'NCT01614041_inc', 'NCT03631355_exc', 'NCT02849483_inc', 'NCT01490034_inc', 'NCT02429765_inc', 'NCT03151603_inc', 'NCT02959801_exc', 'NCT02643381_exc', 'NCT02678377_exc', 'NCT00397215_exc', 'NCT02609425_exc', 'NCT03372265_inc', 'NCT03382106_exc', 'NCT02952365_inc', 'NCT02462590_inc', 'NCT02270970_inc', 'NCT03619707_inc', 'NCT03208127_exc', 'NCT03173092_inc', 'NCT02687178_inc', 'NCT03325023_exc', 'NCT03499639_exc', 'NCT03275584_inc', 'NCT01446094_exc', 'NCT03195153_exc', 'NCT02552459_inc', 'NCT03380429_exc', 'NCT02414399_exc', 'NCT03029078_inc', 'NCT03064867_inc', 'NCT00455663_inc', 'NCT03352869_exc', 'NCT03506477_exc', 'NCT02489045_inc', 'NCT02867618_exc', 'NCT02862912_exc', 'NCT01757717_inc', 'NCT02649114_inc', 'NCT03099863_exc', 'NCT02777580_exc', 'NCT02827526_inc', 'NCT03373669_exc', 'NCT02394158_inc', 'NCT02224040_inc', 'NCT02946892_exc', 'NCT02783859_exc', 'NCT01116882_inc', 'NCT02431442_exc', 'NCT03351972_inc', 'NCT01959061_inc', 'NCT01765231_exc', 'NCT02965027_exc', 'NCT02647788_inc', 'NCT03195153_inc', 'NCT01669369_inc', 'NCT02083991_exc', 'NCT00954850_inc', 'NCT02816762_exc', 'NCT03318874_inc', 'NCT02247128_inc', 'NCT03493919_inc', 'NCT02701881_inc', 'NCT00396734_exc', 'NCT02277067_exc', 'NCT01912651_exc', 'NCT00426751_exc', 'NCT02427295_exc', 'NCT02807857_inc', 'NCT03536520_exc', 'NCT01822262_inc', 'NCT01312012_inc', 'NCT01082549_inc', 'NCT02851888_exc', 'NCT01770340_inc', 'NCT02944292_exc', 'NCT00183885_inc', 'NCT02525991_exc', 'NCT03125057_inc', 'NCT02926989_exc', 'NCT03338296_inc', 'NCT02632318_exc', 'NCT02749617_exc', 'NCT03497598_inc', 'NCT02946892_inc', 'NCT03058835_exc', 'NCT02483715_exc', 'NCT02926989_inc', 'NCT02385045_inc', 'NCT03484091_inc', 'NCT03034733_exc', 'NCT01850147_inc', 'NCT02550769_exc', 'NCT01720394_inc', 'NCT02966236_inc', 'NCT02537899_inc', 'NCT02985710_inc', 'NCT03132259_exc', 'NCT01205334_exc', 'NCT00500500_exc', 'NCT00926523_inc', 'NCT03154931_inc', 'NCT03011177_inc', 'NCT03120533_exc', 'NCT03407625_inc', 'NCT03084588_exc', 'NCT02673359_exc', 'NCT02339974_inc', 'NCT03097068_exc', 'NCT02907554_inc', 'NCT03044561_exc', 'NCT02755701_inc', 'NCT00926523_exc', 'NCT03420638_inc', 'NCT01932996_inc', 'NCT02186600_exc', 'NCT03198910_inc', 'NCT02689089_inc', 'NCT01709981_exc', 'NCT02937779_exc', 'NCT03416413_inc', 'NCT01959425_inc', 'NCT02469610_exc', 'NCT03132259_inc', 'NCT01581749_exc', 'NCT01944800_inc', 'NCT00182520_exc', 'NCT02668016_exc', 'NCT01942109_exc', 'NCT03461679_exc', 'NCT03304496_inc', 'NCT02284737_exc', 'NCT00305097_inc', 'NCT00455663_exc', 'NCT01806558_inc', 'NCT02429765_exc', 'NCT02596555_exc', 'NCT03297021_inc', 'NCT02019160_inc', 'NCT03539718_inc', 'NCT03355157_inc', 'NCT02952365_exc', 'NCT02105090_inc', 'NCT03196843_inc', 'NCT00943865_exc', 'NCT03530124_exc', 'NCT02431442_inc', 'NCT02907554_exc', 'NCT01942915_inc', 'NCT00500500_inc', 'NCT02564471_exc', 'NCT03479502_exc', 'NCT02621489_inc', 'NCT02902120_inc', 'NCT02301962_exc', 'NCT03475589_exc', 'NCT03008005_inc', 'NCT02419378_inc', 'NCT03168555_inc', 'NCT02420015_inc', 'NCT02964416_exc', 'NCT01807897_inc']"
   ]
  },
  {
   "cell_type": "code",
   "execution_count": 20,
   "id": "1518869c-4c11-4ec0-806d-ba6b50ee4e36",
   "metadata": {},
   "outputs": [],
   "source": [
    "model_path='../mod_chia/'\n",
    "model_name='model-best'"
   ]
  },
  {
   "cell_type": "markdown",
   "id": "9dd770f8-4f0d-4ed2-90cf-640784d40538",
   "metadata": {},
   "source": [
    "## Score Model\n",
    "\n",
    "Note: this is a demo and not the model used in our paper"
   ]
  },
  {
   "cell_type": "code",
   "execution_count": 21,
   "id": "8976ddbb-a234-468a-822c-7b720679159a",
   "metadata": {},
   "outputs": [],
   "source": [
    "nlp = spacy.load(model_path+model_name)\n",
    "examples = []\n",
    "scorer = Scorer()\n",
    "\n",
    "for d in test_files:\n",
    "    doc_dict=ann_to_dict(d)\n",
    "    text = doc_dict['text']\n",
    "    annotations = doc_dict['entities']\n",
    "    \n",
    "    # add text to doc object to tokenize\n",
    "    doc = nlp.make_doc(text)\n",
    "    # add doc and true spans to example object\n",
    "    example = Example.from_dict(doc, doc_dict)\n",
    "    # add predicted spans as attribute\n",
    "    example.predicted = nlp(str(example.predicted))\n",
    "    # add each doc to list for storage\n",
    "    examples.append(example)\n",
    "    # score all docs to get combined scores\n",
    "scores=scorer.score(examples)"
   ]
  },
  {
   "cell_type": "code",
   "execution_count": 22,
   "id": "2eb61418-d68e-4074-89fe-55ff42d54e14",
   "metadata": {},
   "outputs": [
    {
     "data": {
      "text/html": [
       "<div>\n",
       "<style scoped>\n",
       "    .dataframe tbody tr th:only-of-type {\n",
       "        vertical-align: middle;\n",
       "    }\n",
       "\n",
       "    .dataframe tbody tr th {\n",
       "        vertical-align: top;\n",
       "    }\n",
       "\n",
       "    .dataframe thead th {\n",
       "        text-align: right;\n",
       "    }\n",
       "</style>\n",
       "<table border=\"1\" class=\"dataframe\">\n",
       "  <thead>\n",
       "    <tr style=\"text-align: right;\">\n",
       "      <th></th>\n",
       "      <th>0</th>\n",
       "      <th>1</th>\n",
       "      <th>2</th>\n",
       "    </tr>\n",
       "  </thead>\n",
       "  <tbody>\n",
       "    <tr>\n",
       "      <th>entity</th>\n",
       "      <td>p</td>\n",
       "      <td>r</td>\n",
       "      <td>f</td>\n",
       "    </tr>\n",
       "    <tr>\n",
       "      <th>all</th>\n",
       "      <td>0.391603</td>\n",
       "      <td>0.343939</td>\n",
       "      <td>0.366227</td>\n",
       "    </tr>\n",
       "    <tr>\n",
       "      <th>Person</th>\n",
       "      <td>0.809859</td>\n",
       "      <td>0.738758</td>\n",
       "      <td>0.772676</td>\n",
       "    </tr>\n",
       "    <tr>\n",
       "      <th>Condition</th>\n",
       "      <td>0.678571</td>\n",
       "      <td>0.359695</td>\n",
       "      <td>0.470166</td>\n",
       "    </tr>\n",
       "    <tr>\n",
       "      <th>Drug</th>\n",
       "      <td>0.59854</td>\n",
       "      <td>0.082912</td>\n",
       "      <td>0.145648</td>\n",
       "    </tr>\n",
       "    <tr>\n",
       "      <th>Observation</th>\n",
       "      <td>0.271889</td>\n",
       "      <td>0.178248</td>\n",
       "      <td>0.215328</td>\n",
       "    </tr>\n",
       "    <tr>\n",
       "      <th>Measurement</th>\n",
       "      <td>0.597484</td>\n",
       "      <td>0.437284</td>\n",
       "      <td>0.504983</td>\n",
       "    </tr>\n",
       "    <tr>\n",
       "      <th>Procedure</th>\n",
       "      <td>0.564706</td>\n",
       "      <td>0.372506</td>\n",
       "      <td>0.448898</td>\n",
       "    </tr>\n",
       "    <tr>\n",
       "      <th>Device</th>\n",
       "      <td>1.0</td>\n",
       "      <td>0.025974</td>\n",
       "      <td>0.050633</td>\n",
       "    </tr>\n",
       "    <tr>\n",
       "      <th>Temporal</th>\n",
       "      <td>0.541284</td>\n",
       "      <td>0.369135</td>\n",
       "      <td>0.438934</td>\n",
       "    </tr>\n",
       "    <tr>\n",
       "      <th>Mood</th>\n",
       "      <td>0.571429</td>\n",
       "      <td>0.281081</td>\n",
       "      <td>0.376812</td>\n",
       "    </tr>\n",
       "    <tr>\n",
       "      <th>Pregnancy_considerations</th>\n",
       "      <td>0.0625</td>\n",
       "      <td>0.018182</td>\n",
       "      <td>0.028169</td>\n",
       "    </tr>\n",
       "  </tbody>\n",
       "</table>\n",
       "</div>"
      ],
      "text/plain": [
       "                                 0         1         2\n",
       "entity                           p         r         f\n",
       "all                       0.391603  0.343939  0.366227\n",
       "Person                    0.809859  0.738758  0.772676\n",
       "Condition                 0.678571  0.359695  0.470166\n",
       "Drug                       0.59854  0.082912  0.145648\n",
       "Observation               0.271889  0.178248  0.215328\n",
       "Measurement               0.597484  0.437284  0.504983\n",
       "Procedure                 0.564706  0.372506  0.448898\n",
       "Device                         1.0  0.025974  0.050633\n",
       "Temporal                  0.541284  0.369135  0.438934\n",
       "Mood                      0.571429  0.281081  0.376812\n",
       "Pregnancy_considerations    0.0625  0.018182  0.028169"
      ]
     },
     "execution_count": 22,
     "metadata": {},
     "output_type": "execute_result"
    }
   ],
   "source": [
    "results={'entity':['p', 'r', 'f'], 'all':[scores['ents_p'], scores['ents_r'], scores['ents_f']]}\n",
    "for x in chia_entities:\n",
    "    results[x]=[scores['ents_per_type'][x]['p'], scores['ents_per_type'][x]['r'], scores['ents_per_type'][x]['f']]\n",
    "results=pd.DataFrame(results)\n",
    "results.transpose()"
   ]
  }
 ],
 "metadata": {
  "kernelspec": {
   "display_name": "Python 3 (ipykernel)",
   "language": "python",
   "name": "python3"
  },
  "language_info": {
   "codemirror_mode": {
    "name": "ipython",
    "version": 3
   },
   "file_extension": ".py",
   "mimetype": "text/x-python",
   "name": "python",
   "nbconvert_exporter": "python",
   "pygments_lexer": "ipython3",
   "version": "3.10.9"
  }
 },
 "nbformat": 4,
 "nbformat_minor": 5
}
